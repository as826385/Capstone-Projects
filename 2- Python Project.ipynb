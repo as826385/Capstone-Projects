{
 "cells": [
  {
   "cell_type": "markdown",
   "id": "6813bfc9",
   "metadata": {},
   "source": [
    "### Task 1"
   ]
  },
  {
   "cell_type": "code",
   "execution_count": 1,
   "id": "97b0c61f",
   "metadata": {},
   "outputs": [],
   "source": [
    "import pandas as pd\n",
    "import matplotlib.pyplot as plt\n",
    "import seaborn as sns\n",
    "import json\n",
    "pd.set_option('display.max_column',None)"
   ]
  },
  {
   "cell_type": "code",
   "execution_count": 2,
   "id": "f4712ae1",
   "metadata": {},
   "outputs": [],
   "source": [
    "df=pd.read_csv('DS1_C8_V3_ND_Sprint2_Data Analysis Using Python_Dataset.csv')"
   ]
  },
  {
   "cell_type": "code",
   "execution_count": 3,
   "id": "45523310",
   "metadata": {},
   "outputs": [
    {
     "data": {
      "text/plain": [
       "(4803, 20)"
      ]
     },
     "execution_count": 3,
     "metadata": {},
     "output_type": "execute_result"
    }
   ],
   "source": [
    "df.shape #number of rows and column"
   ]
  },
  {
   "cell_type": "code",
   "execution_count": 4,
   "id": "0efdd2de",
   "metadata": {},
   "outputs": [
    {
     "data": {
      "text/html": [
       "<div>\n",
       "<style scoped>\n",
       "    .dataframe tbody tr th:only-of-type {\n",
       "        vertical-align: middle;\n",
       "    }\n",
       "\n",
       "    .dataframe tbody tr th {\n",
       "        vertical-align: top;\n",
       "    }\n",
       "\n",
       "    .dataframe thead th {\n",
       "        text-align: right;\n",
       "    }\n",
       "</style>\n",
       "<table border=\"1\" class=\"dataframe\">\n",
       "  <thead>\n",
       "    <tr style=\"text-align: right;\">\n",
       "      <th></th>\n",
       "      <th>title</th>\n",
       "      <th>genres</th>\n",
       "    </tr>\n",
       "  </thead>\n",
       "  <tbody>\n",
       "    <tr>\n",
       "      <th>0</th>\n",
       "      <td>Avatar</td>\n",
       "      <td>[{\"id\": 28, \"name\": \"Action\"}, {\"id\": 12, \"nam...</td>\n",
       "    </tr>\n",
       "    <tr>\n",
       "      <th>1</th>\n",
       "      <td>Pirates of the Caribbean: At World's End</td>\n",
       "      <td>[{\"id\": 12, \"name\": \"Adventure\"}, {\"id\": 14, \"...</td>\n",
       "    </tr>\n",
       "    <tr>\n",
       "      <th>2</th>\n",
       "      <td>Spectre</td>\n",
       "      <td>[{\"id\": 28, \"name\": \"Action\"}, {\"id\": 12, \"nam...</td>\n",
       "    </tr>\n",
       "    <tr>\n",
       "      <th>3</th>\n",
       "      <td>The Dark Knight Rises</td>\n",
       "      <td>[{\"id\": 28, \"name\": \"Action\"}, {\"id\": 80, \"nam...</td>\n",
       "    </tr>\n",
       "    <tr>\n",
       "      <th>4</th>\n",
       "      <td>John Carter</td>\n",
       "      <td>[{\"id\": 28, \"name\": \"Action\"}, {\"id\": 12, \"nam...</td>\n",
       "    </tr>\n",
       "    <tr>\n",
       "      <th>5</th>\n",
       "      <td>Spider-Man 3</td>\n",
       "      <td>[{\"id\": 14, \"name\": \"Fantasy\"}, {\"id\": 28, \"na...</td>\n",
       "    </tr>\n",
       "    <tr>\n",
       "      <th>6</th>\n",
       "      <td>Tangled</td>\n",
       "      <td>[{\"id\": 16, \"name\": \"Animation\"}, {\"id\": 10751...</td>\n",
       "    </tr>\n",
       "    <tr>\n",
       "      <th>7</th>\n",
       "      <td>Avengers: Age of Ultron</td>\n",
       "      <td>[{\"id\": 28, \"name\": \"Action\"}, {\"id\": 12, \"nam...</td>\n",
       "    </tr>\n",
       "    <tr>\n",
       "      <th>8</th>\n",
       "      <td>Harry Potter and the Half-Blood Prince</td>\n",
       "      <td>[{\"id\": 12, \"name\": \"Adventure\"}, {\"id\": 14, \"...</td>\n",
       "    </tr>\n",
       "    <tr>\n",
       "      <th>9</th>\n",
       "      <td>Batman v Superman: Dawn of Justice</td>\n",
       "      <td>[{\"id\": 28, \"name\": \"Action\"}, {\"id\": 12, \"nam...</td>\n",
       "    </tr>\n",
       "    <tr>\n",
       "      <th>10</th>\n",
       "      <td>Superman Returns</td>\n",
       "      <td>[{\"id\": 12, \"name\": \"Adventure\"}, {\"id\": 14, \"...</td>\n",
       "    </tr>\n",
       "    <tr>\n",
       "      <th>11</th>\n",
       "      <td>Quantum of Solace</td>\n",
       "      <td>[{\"id\": 12, \"name\": \"Adventure\"}, {\"id\": 28, \"...</td>\n",
       "    </tr>\n",
       "    <tr>\n",
       "      <th>12</th>\n",
       "      <td>Pirates of the Caribbean: Dead Man's Chest</td>\n",
       "      <td>[{\"id\": 12, \"name\": \"Adventure\"}, {\"id\": 14, \"...</td>\n",
       "    </tr>\n",
       "    <tr>\n",
       "      <th>13</th>\n",
       "      <td>The Lone Ranger</td>\n",
       "      <td>[{\"id\": 28, \"name\": \"Action\"}, {\"id\": 12, \"nam...</td>\n",
       "    </tr>\n",
       "    <tr>\n",
       "      <th>14</th>\n",
       "      <td>Man of Steel</td>\n",
       "      <td>[{\"id\": 28, \"name\": \"Action\"}, {\"id\": 12, \"nam...</td>\n",
       "    </tr>\n",
       "    <tr>\n",
       "      <th>15</th>\n",
       "      <td>The Chronicles of Narnia: Prince Caspian</td>\n",
       "      <td>[{\"id\": 12, \"name\": \"Adventure\"}, {\"id\": 10751...</td>\n",
       "    </tr>\n",
       "    <tr>\n",
       "      <th>16</th>\n",
       "      <td>The Avengers</td>\n",
       "      <td>[{\"id\": 878, \"name\": \"Science Fiction\"}, {\"id\"...</td>\n",
       "    </tr>\n",
       "    <tr>\n",
       "      <th>17</th>\n",
       "      <td>Pirates of the Caribbean: On Stranger Tides</td>\n",
       "      <td>[{\"id\": 12, \"name\": \"Adventure\"}, {\"id\": 28, \"...</td>\n",
       "    </tr>\n",
       "    <tr>\n",
       "      <th>18</th>\n",
       "      <td>Men in Black 3</td>\n",
       "      <td>[{\"id\": 28, \"name\": \"Action\"}, {\"id\": 35, \"nam...</td>\n",
       "    </tr>\n",
       "    <tr>\n",
       "      <th>19</th>\n",
       "      <td>The Hobbit: The Battle of the Five Armies</td>\n",
       "      <td>[{\"id\": 28, \"name\": \"Action\"}, {\"id\": 12, \"nam...</td>\n",
       "    </tr>\n",
       "    <tr>\n",
       "      <th>20</th>\n",
       "      <td>The Amazing Spider-Man</td>\n",
       "      <td>[{\"id\": 28, \"name\": \"Action\"}, {\"id\": 12, \"nam...</td>\n",
       "    </tr>\n",
       "    <tr>\n",
       "      <th>21</th>\n",
       "      <td>Robin Hood</td>\n",
       "      <td>[{\"id\": 28, \"name\": \"Action\"}, {\"id\": 12, \"nam...</td>\n",
       "    </tr>\n",
       "    <tr>\n",
       "      <th>22</th>\n",
       "      <td>The Hobbit: The Desolation of Smaug</td>\n",
       "      <td>[{\"id\": 12, \"name\": \"Adventure\"}, {\"id\": 14, \"...</td>\n",
       "    </tr>\n",
       "    <tr>\n",
       "      <th>23</th>\n",
       "      <td>The Golden Compass</td>\n",
       "      <td>[{\"id\": 12, \"name\": \"Adventure\"}, {\"id\": 14, \"...</td>\n",
       "    </tr>\n",
       "    <tr>\n",
       "      <th>24</th>\n",
       "      <td>King Kong</td>\n",
       "      <td>[{\"id\": 12, \"name\": \"Adventure\"}, {\"id\": 18, \"...</td>\n",
       "    </tr>\n",
       "    <tr>\n",
       "      <th>25</th>\n",
       "      <td>Titanic</td>\n",
       "      <td>[{\"id\": 18, \"name\": \"Drama\"}, {\"id\": 10749, \"n...</td>\n",
       "    </tr>\n",
       "    <tr>\n",
       "      <th>26</th>\n",
       "      <td>Captain America: Civil War</td>\n",
       "      <td>[{\"id\": 12, \"name\": \"Adventure\"}, {\"id\": 28, \"...</td>\n",
       "    </tr>\n",
       "    <tr>\n",
       "      <th>27</th>\n",
       "      <td>Battleship</td>\n",
       "      <td>[{\"id\": 53, \"name\": \"Thriller\"}, {\"id\": 28, \"n...</td>\n",
       "    </tr>\n",
       "    <tr>\n",
       "      <th>28</th>\n",
       "      <td>Jurassic World</td>\n",
       "      <td>[{\"id\": 28, \"name\": \"Action\"}, {\"id\": 12, \"nam...</td>\n",
       "    </tr>\n",
       "    <tr>\n",
       "      <th>29</th>\n",
       "      <td>Skyfall</td>\n",
       "      <td>[{\"id\": 28, \"name\": \"Action\"}, {\"id\": 12, \"nam...</td>\n",
       "    </tr>\n",
       "    <tr>\n",
       "      <th>30</th>\n",
       "      <td>Spider-Man 2</td>\n",
       "      <td>[{\"id\": 28, \"name\": \"Action\"}, {\"id\": 12, \"nam...</td>\n",
       "    </tr>\n",
       "    <tr>\n",
       "      <th>31</th>\n",
       "      <td>Iron Man 3</td>\n",
       "      <td>[{\"id\": 28, \"name\": \"Action\"}, {\"id\": 12, \"nam...</td>\n",
       "    </tr>\n",
       "    <tr>\n",
       "      <th>32</th>\n",
       "      <td>Alice in Wonderland</td>\n",
       "      <td>[{\"id\": 10751, \"name\": \"Family\"}, {\"id\": 14, \"...</td>\n",
       "    </tr>\n",
       "    <tr>\n",
       "      <th>33</th>\n",
       "      <td>X-Men: The Last Stand</td>\n",
       "      <td>[{\"id\": 12, \"name\": \"Adventure\"}, {\"id\": 28, \"...</td>\n",
       "    </tr>\n",
       "    <tr>\n",
       "      <th>34</th>\n",
       "      <td>Monsters University</td>\n",
       "      <td>[{\"id\": 16, \"name\": \"Animation\"}, {\"id\": 10751...</td>\n",
       "    </tr>\n",
       "    <tr>\n",
       "      <th>35</th>\n",
       "      <td>Transformers: Revenge of the Fallen</td>\n",
       "      <td>[{\"id\": 878, \"name\": \"Science Fiction\"}, {\"id\"...</td>\n",
       "    </tr>\n",
       "    <tr>\n",
       "      <th>36</th>\n",
       "      <td>Transformers: Age of Extinction</td>\n",
       "      <td>[{\"id\": 878, \"name\": \"Science Fiction\"}, {\"id\"...</td>\n",
       "    </tr>\n",
       "    <tr>\n",
       "      <th>37</th>\n",
       "      <td>Oz: The Great and Powerful</td>\n",
       "      <td>[{\"id\": 14, \"name\": \"Fantasy\"}, {\"id\": 12, \"na...</td>\n",
       "    </tr>\n",
       "    <tr>\n",
       "      <th>38</th>\n",
       "      <td>The Amazing Spider-Man 2</td>\n",
       "      <td>[{\"id\": 28, \"name\": \"Action\"}, {\"id\": 12, \"nam...</td>\n",
       "    </tr>\n",
       "    <tr>\n",
       "      <th>39</th>\n",
       "      <td>TRON: Legacy</td>\n",
       "      <td>[{\"id\": 12, \"name\": \"Adventure\"}, {\"id\": 28, \"...</td>\n",
       "    </tr>\n",
       "    <tr>\n",
       "      <th>40</th>\n",
       "      <td>Cars 2</td>\n",
       "      <td>[{\"id\": 16, \"name\": \"Animation\"}, {\"id\": 10751...</td>\n",
       "    </tr>\n",
       "    <tr>\n",
       "      <th>41</th>\n",
       "      <td>Green Lantern</td>\n",
       "      <td>[{\"id\": 12, \"name\": \"Adventure\"}, {\"id\": 28, \"...</td>\n",
       "    </tr>\n",
       "    <tr>\n",
       "      <th>42</th>\n",
       "      <td>Toy Story 3</td>\n",
       "      <td>[{\"id\": 16, \"name\": \"Animation\"}, {\"id\": 10751...</td>\n",
       "    </tr>\n",
       "    <tr>\n",
       "      <th>43</th>\n",
       "      <td>Terminator Salvation</td>\n",
       "      <td>[{\"id\": 28, \"name\": \"Action\"}, {\"id\": 878, \"na...</td>\n",
       "    </tr>\n",
       "    <tr>\n",
       "      <th>44</th>\n",
       "      <td>Furious 7</td>\n",
       "      <td>[{\"id\": 28, \"name\": \"Action\"}]</td>\n",
       "    </tr>\n",
       "    <tr>\n",
       "      <th>45</th>\n",
       "      <td>World War Z</td>\n",
       "      <td>[{\"id\": 28, \"name\": \"Action\"}, {\"id\": 18, \"nam...</td>\n",
       "    </tr>\n",
       "    <tr>\n",
       "      <th>46</th>\n",
       "      <td>X-Men: Days of Future Past</td>\n",
       "      <td>[{\"id\": 28, \"name\": \"Action\"}, {\"id\": 12, \"nam...</td>\n",
       "    </tr>\n",
       "    <tr>\n",
       "      <th>47</th>\n",
       "      <td>Star Trek Into Darkness</td>\n",
       "      <td>[{\"id\": 28, \"name\": \"Action\"}, {\"id\": 12, \"nam...</td>\n",
       "    </tr>\n",
       "    <tr>\n",
       "      <th>48</th>\n",
       "      <td>Jack the Giant Slayer</td>\n",
       "      <td>[{\"id\": 28, \"name\": \"Action\"}, {\"id\": 10751, \"...</td>\n",
       "    </tr>\n",
       "    <tr>\n",
       "      <th>49</th>\n",
       "      <td>The Great Gatsby</td>\n",
       "      <td>[{\"id\": 18, \"name\": \"Drama\"}, {\"id\": 10749, \"n...</td>\n",
       "    </tr>\n",
       "  </tbody>\n",
       "</table>\n",
       "</div>"
      ],
      "text/plain": [
       "                                          title  \\\n",
       "0                                        Avatar   \n",
       "1      Pirates of the Caribbean: At World's End   \n",
       "2                                       Spectre   \n",
       "3                         The Dark Knight Rises   \n",
       "4                                   John Carter   \n",
       "5                                  Spider-Man 3   \n",
       "6                                       Tangled   \n",
       "7                       Avengers: Age of Ultron   \n",
       "8        Harry Potter and the Half-Blood Prince   \n",
       "9            Batman v Superman: Dawn of Justice   \n",
       "10                             Superman Returns   \n",
       "11                            Quantum of Solace   \n",
       "12   Pirates of the Caribbean: Dead Man's Chest   \n",
       "13                              The Lone Ranger   \n",
       "14                                 Man of Steel   \n",
       "15     The Chronicles of Narnia: Prince Caspian   \n",
       "16                                 The Avengers   \n",
       "17  Pirates of the Caribbean: On Stranger Tides   \n",
       "18                               Men in Black 3   \n",
       "19    The Hobbit: The Battle of the Five Armies   \n",
       "20                       The Amazing Spider-Man   \n",
       "21                                   Robin Hood   \n",
       "22          The Hobbit: The Desolation of Smaug   \n",
       "23                           The Golden Compass   \n",
       "24                                    King Kong   \n",
       "25                                      Titanic   \n",
       "26                   Captain America: Civil War   \n",
       "27                                   Battleship   \n",
       "28                               Jurassic World   \n",
       "29                                      Skyfall   \n",
       "30                                 Spider-Man 2   \n",
       "31                                   Iron Man 3   \n",
       "32                          Alice in Wonderland   \n",
       "33                        X-Men: The Last Stand   \n",
       "34                          Monsters University   \n",
       "35          Transformers: Revenge of the Fallen   \n",
       "36              Transformers: Age of Extinction   \n",
       "37                   Oz: The Great and Powerful   \n",
       "38                     The Amazing Spider-Man 2   \n",
       "39                                 TRON: Legacy   \n",
       "40                                       Cars 2   \n",
       "41                                Green Lantern   \n",
       "42                                  Toy Story 3   \n",
       "43                         Terminator Salvation   \n",
       "44                                    Furious 7   \n",
       "45                                  World War Z   \n",
       "46                   X-Men: Days of Future Past   \n",
       "47                      Star Trek Into Darkness   \n",
       "48                        Jack the Giant Slayer   \n",
       "49                             The Great Gatsby   \n",
       "\n",
       "                                               genres  \n",
       "0   [{\"id\": 28, \"name\": \"Action\"}, {\"id\": 12, \"nam...  \n",
       "1   [{\"id\": 12, \"name\": \"Adventure\"}, {\"id\": 14, \"...  \n",
       "2   [{\"id\": 28, \"name\": \"Action\"}, {\"id\": 12, \"nam...  \n",
       "3   [{\"id\": 28, \"name\": \"Action\"}, {\"id\": 80, \"nam...  \n",
       "4   [{\"id\": 28, \"name\": \"Action\"}, {\"id\": 12, \"nam...  \n",
       "5   [{\"id\": 14, \"name\": \"Fantasy\"}, {\"id\": 28, \"na...  \n",
       "6   [{\"id\": 16, \"name\": \"Animation\"}, {\"id\": 10751...  \n",
       "7   [{\"id\": 28, \"name\": \"Action\"}, {\"id\": 12, \"nam...  \n",
       "8   [{\"id\": 12, \"name\": \"Adventure\"}, {\"id\": 14, \"...  \n",
       "9   [{\"id\": 28, \"name\": \"Action\"}, {\"id\": 12, \"nam...  \n",
       "10  [{\"id\": 12, \"name\": \"Adventure\"}, {\"id\": 14, \"...  \n",
       "11  [{\"id\": 12, \"name\": \"Adventure\"}, {\"id\": 28, \"...  \n",
       "12  [{\"id\": 12, \"name\": \"Adventure\"}, {\"id\": 14, \"...  \n",
       "13  [{\"id\": 28, \"name\": \"Action\"}, {\"id\": 12, \"nam...  \n",
       "14  [{\"id\": 28, \"name\": \"Action\"}, {\"id\": 12, \"nam...  \n",
       "15  [{\"id\": 12, \"name\": \"Adventure\"}, {\"id\": 10751...  \n",
       "16  [{\"id\": 878, \"name\": \"Science Fiction\"}, {\"id\"...  \n",
       "17  [{\"id\": 12, \"name\": \"Adventure\"}, {\"id\": 28, \"...  \n",
       "18  [{\"id\": 28, \"name\": \"Action\"}, {\"id\": 35, \"nam...  \n",
       "19  [{\"id\": 28, \"name\": \"Action\"}, {\"id\": 12, \"nam...  \n",
       "20  [{\"id\": 28, \"name\": \"Action\"}, {\"id\": 12, \"nam...  \n",
       "21  [{\"id\": 28, \"name\": \"Action\"}, {\"id\": 12, \"nam...  \n",
       "22  [{\"id\": 12, \"name\": \"Adventure\"}, {\"id\": 14, \"...  \n",
       "23  [{\"id\": 12, \"name\": \"Adventure\"}, {\"id\": 14, \"...  \n",
       "24  [{\"id\": 12, \"name\": \"Adventure\"}, {\"id\": 18, \"...  \n",
       "25  [{\"id\": 18, \"name\": \"Drama\"}, {\"id\": 10749, \"n...  \n",
       "26  [{\"id\": 12, \"name\": \"Adventure\"}, {\"id\": 28, \"...  \n",
       "27  [{\"id\": 53, \"name\": \"Thriller\"}, {\"id\": 28, \"n...  \n",
       "28  [{\"id\": 28, \"name\": \"Action\"}, {\"id\": 12, \"nam...  \n",
       "29  [{\"id\": 28, \"name\": \"Action\"}, {\"id\": 12, \"nam...  \n",
       "30  [{\"id\": 28, \"name\": \"Action\"}, {\"id\": 12, \"nam...  \n",
       "31  [{\"id\": 28, \"name\": \"Action\"}, {\"id\": 12, \"nam...  \n",
       "32  [{\"id\": 10751, \"name\": \"Family\"}, {\"id\": 14, \"...  \n",
       "33  [{\"id\": 12, \"name\": \"Adventure\"}, {\"id\": 28, \"...  \n",
       "34  [{\"id\": 16, \"name\": \"Animation\"}, {\"id\": 10751...  \n",
       "35  [{\"id\": 878, \"name\": \"Science Fiction\"}, {\"id\"...  \n",
       "36  [{\"id\": 878, \"name\": \"Science Fiction\"}, {\"id\"...  \n",
       "37  [{\"id\": 14, \"name\": \"Fantasy\"}, {\"id\": 12, \"na...  \n",
       "38  [{\"id\": 28, \"name\": \"Action\"}, {\"id\": 12, \"nam...  \n",
       "39  [{\"id\": 12, \"name\": \"Adventure\"}, {\"id\": 28, \"...  \n",
       "40  [{\"id\": 16, \"name\": \"Animation\"}, {\"id\": 10751...  \n",
       "41  [{\"id\": 12, \"name\": \"Adventure\"}, {\"id\": 28, \"...  \n",
       "42  [{\"id\": 16, \"name\": \"Animation\"}, {\"id\": 10751...  \n",
       "43  [{\"id\": 28, \"name\": \"Action\"}, {\"id\": 878, \"na...  \n",
       "44                     [{\"id\": 28, \"name\": \"Action\"}]  \n",
       "45  [{\"id\": 28, \"name\": \"Action\"}, {\"id\": 18, \"nam...  \n",
       "46  [{\"id\": 28, \"name\": \"Action\"}, {\"id\": 12, \"nam...  \n",
       "47  [{\"id\": 28, \"name\": \"Action\"}, {\"id\": 12, \"nam...  \n",
       "48  [{\"id\": 28, \"name\": \"Action\"}, {\"id\": 10751, \"...  \n",
       "49  [{\"id\": 18, \"name\": \"Drama\"}, {\"id\": 10749, \"n...  "
      ]
     },
     "execution_count": 4,
     "metadata": {},
     "output_type": "execute_result"
    }
   ],
   "source": [
    "df[['title', 'genres']].head(50)"
   ]
  },
  {
   "cell_type": "markdown",
   "id": "c95a4419",
   "metadata": {},
   "source": [
    "### Task 2"
   ]
  },
  {
   "cell_type": "code",
   "execution_count": 5,
   "id": "59573d4d",
   "metadata": {},
   "outputs": [
    {
     "data": {
      "text/plain": [
       "budget                     0\n",
       "genres                     0\n",
       "homepage                3091\n",
       "id                         0\n",
       "keywords                   0\n",
       "original_language          0\n",
       "original_title             0\n",
       "overview                   3\n",
       "popularity                 0\n",
       "production_companies       0\n",
       "production_countries       0\n",
       "release_date               1\n",
       "revenue                    0\n",
       "runtime                    2\n",
       "spoken_languages           0\n",
       "status                     0\n",
       "tagline                  844\n",
       "title                      0\n",
       "vote_average               0\n",
       "vote_count                 0\n",
       "dtype: int64"
      ]
     },
     "execution_count": 5,
     "metadata": {},
     "output_type": "execute_result"
    }
   ],
   "source": [
    "df.isnull().sum()"
   ]
  },
  {
   "cell_type": "code",
   "execution_count": 6,
   "id": "40d07d57",
   "metadata": {},
   "outputs": [],
   "source": [
    "homepage_mode=df['homepage'].mode()[0]"
   ]
  },
  {
   "cell_type": "code",
   "execution_count": 7,
   "id": "5797302b",
   "metadata": {},
   "outputs": [],
   "source": [
    "tagline_mode=df['tagline'].mode()[0]"
   ]
  },
  {
   "cell_type": "code",
   "execution_count": 8,
   "id": "be013359",
   "metadata": {},
   "outputs": [],
   "source": [
    "overview_mode=df['overview'].mode()[0]"
   ]
  },
  {
   "cell_type": "code",
   "execution_count": 9,
   "id": "d52258bc",
   "metadata": {},
   "outputs": [],
   "source": [
    "release_date_mode=df['release_date'].mode()[0]"
   ]
  },
  {
   "cell_type": "code",
   "execution_count": 10,
   "id": "70f9e2ab",
   "metadata": {},
   "outputs": [],
   "source": [
    "runtime_mode=df['runtime'].mode()[0]"
   ]
  },
  {
   "cell_type": "code",
   "execution_count": 11,
   "id": "48293e4d",
   "metadata": {},
   "outputs": [],
   "source": [
    "df['homepage'].fillna(homepage_mode, inplace=True)"
   ]
  },
  {
   "cell_type": "code",
   "execution_count": 12,
   "id": "5ec660c1",
   "metadata": {},
   "outputs": [],
   "source": [
    "df['tagline'].fillna(tagline_mode, inplace=True)"
   ]
  },
  {
   "cell_type": "code",
   "execution_count": 13,
   "id": "fd9ae9b8",
   "metadata": {},
   "outputs": [],
   "source": [
    "df['overview'].fillna(overview_mode, inplace=True)"
   ]
  },
  {
   "cell_type": "code",
   "execution_count": 14,
   "id": "4ea4f4bf",
   "metadata": {},
   "outputs": [],
   "source": [
    "df['release_date'].fillna(release_date_mode, inplace=True)"
   ]
  },
  {
   "cell_type": "code",
   "execution_count": 15,
   "id": "b9782845",
   "metadata": {},
   "outputs": [],
   "source": [
    "df['runtime'].fillna(runtime_mode, inplace = True)"
   ]
  },
  {
   "cell_type": "markdown",
   "id": "6903a061",
   "metadata": {},
   "source": [
    "### Task 3"
   ]
  },
  {
   "cell_type": "code",
   "execution_count": 16,
   "id": "7587e5fa",
   "metadata": {},
   "outputs": [
    {
     "data": {
      "text/html": [
       "<div>\n",
       "<style scoped>\n",
       "    .dataframe tbody tr th:only-of-type {\n",
       "        vertical-align: middle;\n",
       "    }\n",
       "\n",
       "    .dataframe tbody tr th {\n",
       "        vertical-align: top;\n",
       "    }\n",
       "\n",
       "    .dataframe thead th {\n",
       "        text-align: right;\n",
       "    }\n",
       "</style>\n",
       "<table border=\"1\" class=\"dataframe\">\n",
       "  <thead>\n",
       "    <tr style=\"text-align: right;\">\n",
       "      <th></th>\n",
       "      <th>genres</th>\n",
       "    </tr>\n",
       "  </thead>\n",
       "  <tbody>\n",
       "    <tr>\n",
       "      <th>0</th>\n",
       "      <td>[{\"id\": 28, \"name\": \"Action\"}, {\"id\": 12, \"nam...</td>\n",
       "    </tr>\n",
       "    <tr>\n",
       "      <th>1</th>\n",
       "      <td>[{\"id\": 12, \"name\": \"Adventure\"}, {\"id\": 14, \"...</td>\n",
       "    </tr>\n",
       "    <tr>\n",
       "      <th>2</th>\n",
       "      <td>[{\"id\": 28, \"name\": \"Action\"}, {\"id\": 12, \"nam...</td>\n",
       "    </tr>\n",
       "    <tr>\n",
       "      <th>3</th>\n",
       "      <td>[{\"id\": 28, \"name\": \"Action\"}, {\"id\": 80, \"nam...</td>\n",
       "    </tr>\n",
       "    <tr>\n",
       "      <th>4</th>\n",
       "      <td>[{\"id\": 28, \"name\": \"Action\"}, {\"id\": 12, \"nam...</td>\n",
       "    </tr>\n",
       "    <tr>\n",
       "      <th>...</th>\n",
       "      <td>...</td>\n",
       "    </tr>\n",
       "    <tr>\n",
       "      <th>4680</th>\n",
       "      <td>[{\"id\": 80, \"name\": \"Crime\"}, {\"id\": 27, \"name...</td>\n",
       "    </tr>\n",
       "    <tr>\n",
       "      <th>4682</th>\n",
       "      <td>[{\"id\": 27, \"name\": \"Horror\"}]</td>\n",
       "    </tr>\n",
       "    <tr>\n",
       "      <th>4720</th>\n",
       "      <td>[{\"id\": 18, \"name\": \"Drama\"}]</td>\n",
       "    </tr>\n",
       "    <tr>\n",
       "      <th>4758</th>\n",
       "      <td>[{\"id\": 53, \"name\": \"Thriller\"}, {\"id\": 878, \"...</td>\n",
       "    </tr>\n",
       "    <tr>\n",
       "      <th>4770</th>\n",
       "      <td>[{\"id\": 18, \"name\": \"Drama\"}, {\"id\": 35, \"name...</td>\n",
       "    </tr>\n",
       "  </tbody>\n",
       "</table>\n",
       "<p>3684 rows × 1 columns</p>\n",
       "</div>"
      ],
      "text/plain": [
       "                                                 genres\n",
       "0     [{\"id\": 28, \"name\": \"Action\"}, {\"id\": 12, \"nam...\n",
       "1     [{\"id\": 12, \"name\": \"Adventure\"}, {\"id\": 14, \"...\n",
       "2     [{\"id\": 28, \"name\": \"Action\"}, {\"id\": 12, \"nam...\n",
       "3     [{\"id\": 28, \"name\": \"Action\"}, {\"id\": 80, \"nam...\n",
       "4     [{\"id\": 28, \"name\": \"Action\"}, {\"id\": 12, \"nam...\n",
       "...                                                 ...\n",
       "4680  [{\"id\": 80, \"name\": \"Crime\"}, {\"id\": 27, \"name...\n",
       "4682                     [{\"id\": 27, \"name\": \"Horror\"}]\n",
       "4720                      [{\"id\": 18, \"name\": \"Drama\"}]\n",
       "4758  [{\"id\": 53, \"name\": \"Thriller\"}, {\"id\": 878, \"...\n",
       "4770  [{\"id\": 18, \"name\": \"Drama\"}, {\"id\": 35, \"name...\n",
       "\n",
       "[3684 rows x 1 columns]"
      ]
     },
     "execution_count": 16,
     "metadata": {},
     "output_type": "execute_result"
    }
   ],
   "source": [
    "df[df['budget']>220000][['genres']]"
   ]
  },
  {
   "cell_type": "markdown",
   "id": "7ee525e6",
   "metadata": {},
   "source": [
    "### Task 4"
   ]
  },
  {
   "cell_type": "code",
   "execution_count": 17,
   "id": "46796fed",
   "metadata": {},
   "outputs": [
    {
     "data": {
      "text/html": [
       "<div>\n",
       "<style scoped>\n",
       "    .dataframe tbody tr th:only-of-type {\n",
       "        vertical-align: middle;\n",
       "    }\n",
       "\n",
       "    .dataframe tbody tr th {\n",
       "        vertical-align: top;\n",
       "    }\n",
       "\n",
       "    .dataframe thead th {\n",
       "        text-align: right;\n",
       "    }\n",
       "</style>\n",
       "<table border=\"1\" class=\"dataframe\">\n",
       "  <thead>\n",
       "    <tr style=\"text-align: right;\">\n",
       "      <th></th>\n",
       "      <th>genres</th>\n",
       "    </tr>\n",
       "  </thead>\n",
       "  <tbody>\n",
       "    <tr>\n",
       "      <th>0</th>\n",
       "      <td>[{\"id\": 28, \"name\": \"Action\"}, {\"id\": 12, \"nam...</td>\n",
       "    </tr>\n",
       "    <tr>\n",
       "      <th>3</th>\n",
       "      <td>[{\"id\": 28, \"name\": \"Action\"}, {\"id\": 80, \"nam...</td>\n",
       "    </tr>\n",
       "    <tr>\n",
       "      <th>7</th>\n",
       "      <td>[{\"id\": 28, \"name\": \"Action\"}, {\"id\": 12, \"nam...</td>\n",
       "    </tr>\n",
       "    <tr>\n",
       "      <th>12</th>\n",
       "      <td>[{\"id\": 12, \"name\": \"Adventure\"}, {\"id\": 14, \"...</td>\n",
       "    </tr>\n",
       "    <tr>\n",
       "      <th>16</th>\n",
       "      <td>[{\"id\": 878, \"name\": \"Science Fiction\"}, {\"id\"...</td>\n",
       "    </tr>\n",
       "    <tr>\n",
       "      <th>17</th>\n",
       "      <td>[{\"id\": 12, \"name\": \"Adventure\"}, {\"id\": 28, \"...</td>\n",
       "    </tr>\n",
       "    <tr>\n",
       "      <th>25</th>\n",
       "      <td>[{\"id\": 18, \"name\": \"Drama\"}, {\"id\": 10749, \"n...</td>\n",
       "    </tr>\n",
       "    <tr>\n",
       "      <th>26</th>\n",
       "      <td>[{\"id\": 12, \"name\": \"Adventure\"}, {\"id\": 28, \"...</td>\n",
       "    </tr>\n",
       "    <tr>\n",
       "      <th>28</th>\n",
       "      <td>[{\"id\": 28, \"name\": \"Action\"}, {\"id\": 12, \"nam...</td>\n",
       "    </tr>\n",
       "    <tr>\n",
       "      <th>29</th>\n",
       "      <td>[{\"id\": 28, \"name\": \"Action\"}, {\"id\": 12, \"nam...</td>\n",
       "    </tr>\n",
       "    <tr>\n",
       "      <th>31</th>\n",
       "      <td>[{\"id\": 28, \"name\": \"Action\"}, {\"id\": 12, \"nam...</td>\n",
       "    </tr>\n",
       "    <tr>\n",
       "      <th>32</th>\n",
       "      <td>[{\"id\": 10751, \"name\": \"Family\"}, {\"id\": 14, \"...</td>\n",
       "    </tr>\n",
       "    <tr>\n",
       "      <th>36</th>\n",
       "      <td>[{\"id\": 878, \"name\": \"Science Fiction\"}, {\"id\"...</td>\n",
       "    </tr>\n",
       "    <tr>\n",
       "      <th>42</th>\n",
       "      <td>[{\"id\": 16, \"name\": \"Animation\"}, {\"id\": 10751...</td>\n",
       "    </tr>\n",
       "    <tr>\n",
       "      <th>44</th>\n",
       "      <td>[{\"id\": 28, \"name\": \"Action\"}]</td>\n",
       "    </tr>\n",
       "    <tr>\n",
       "      <th>52</th>\n",
       "      <td>[{\"id\": 28, \"name\": \"Action\"}, {\"id\": 878, \"na...</td>\n",
       "    </tr>\n",
       "    <tr>\n",
       "      <th>65</th>\n",
       "      <td>[{\"id\": 18, \"name\": \"Drama\"}, {\"id\": 28, \"name...</td>\n",
       "    </tr>\n",
       "    <tr>\n",
       "      <th>78</th>\n",
       "      <td>[{\"id\": 10751, \"name\": \"Family\"}, {\"id\": 12, \"...</td>\n",
       "    </tr>\n",
       "    <tr>\n",
       "      <th>98</th>\n",
       "      <td>[{\"id\": 12, \"name\": \"Adventure\"}, {\"id\": 14, \"...</td>\n",
       "    </tr>\n",
       "    <tr>\n",
       "      <th>124</th>\n",
       "      <td>[{\"id\": 16, \"name\": \"Animation\"}, {\"id\": 12, \"...</td>\n",
       "    </tr>\n",
       "    <tr>\n",
       "      <th>197</th>\n",
       "      <td>[{\"id\": 12, \"name\": \"Adventure\"}, {\"id\": 14, \"...</td>\n",
       "    </tr>\n",
       "    <tr>\n",
       "      <th>329</th>\n",
       "      <td>[{\"id\": 12, \"name\": \"Adventure\"}, {\"id\": 14, \"...</td>\n",
       "    </tr>\n",
       "    <tr>\n",
       "      <th>506</th>\n",
       "      <td>[{\"id\": 16, \"name\": \"Animation\"}, {\"id\": 35, \"...</td>\n",
       "    </tr>\n",
       "    <tr>\n",
       "      <th>546</th>\n",
       "      <td>[{\"id\": 10751, \"name\": \"Family\"}, {\"id\": 16, \"...</td>\n",
       "    </tr>\n",
       "  </tbody>\n",
       "</table>\n",
       "</div>"
      ],
      "text/plain": [
       "                                                genres\n",
       "0    [{\"id\": 28, \"name\": \"Action\"}, {\"id\": 12, \"nam...\n",
       "3    [{\"id\": 28, \"name\": \"Action\"}, {\"id\": 80, \"nam...\n",
       "7    [{\"id\": 28, \"name\": \"Action\"}, {\"id\": 12, \"nam...\n",
       "12   [{\"id\": 12, \"name\": \"Adventure\"}, {\"id\": 14, \"...\n",
       "16   [{\"id\": 878, \"name\": \"Science Fiction\"}, {\"id\"...\n",
       "17   [{\"id\": 12, \"name\": \"Adventure\"}, {\"id\": 28, \"...\n",
       "25   [{\"id\": 18, \"name\": \"Drama\"}, {\"id\": 10749, \"n...\n",
       "26   [{\"id\": 12, \"name\": \"Adventure\"}, {\"id\": 28, \"...\n",
       "28   [{\"id\": 28, \"name\": \"Action\"}, {\"id\": 12, \"nam...\n",
       "29   [{\"id\": 28, \"name\": \"Action\"}, {\"id\": 12, \"nam...\n",
       "31   [{\"id\": 28, \"name\": \"Action\"}, {\"id\": 12, \"nam...\n",
       "32   [{\"id\": 10751, \"name\": \"Family\"}, {\"id\": 14, \"...\n",
       "36   [{\"id\": 878, \"name\": \"Science Fiction\"}, {\"id\"...\n",
       "42   [{\"id\": 16, \"name\": \"Animation\"}, {\"id\": 10751...\n",
       "44                      [{\"id\": 28, \"name\": \"Action\"}]\n",
       "52   [{\"id\": 28, \"name\": \"Action\"}, {\"id\": 878, \"na...\n",
       "65   [{\"id\": 18, \"name\": \"Drama\"}, {\"id\": 28, \"name...\n",
       "78   [{\"id\": 10751, \"name\": \"Family\"}, {\"id\": 12, \"...\n",
       "98   [{\"id\": 12, \"name\": \"Adventure\"}, {\"id\": 14, \"...\n",
       "124  [{\"id\": 16, \"name\": \"Animation\"}, {\"id\": 12, \"...\n",
       "197  [{\"id\": 12, \"name\": \"Adventure\"}, {\"id\": 14, \"...\n",
       "329  [{\"id\": 12, \"name\": \"Adventure\"}, {\"id\": 14, \"...\n",
       "506  [{\"id\": 16, \"name\": \"Animation\"}, {\"id\": 35, \"...\n",
       "546  [{\"id\": 10751, \"name\": \"Family\"}, {\"id\": 16, \"..."
      ]
     },
     "execution_count": 17,
     "metadata": {},
     "output_type": "execute_result"
    }
   ],
   "source": [
    "df[df['revenue']>961000000][['genres']]"
   ]
  },
  {
   "cell_type": "markdown",
   "id": "5cab2321",
   "metadata": {},
   "source": [
    "### Task 5"
   ]
  },
  {
   "cell_type": "code",
   "execution_count": 18,
   "id": "b795de1d",
   "metadata": {},
   "outputs": [],
   "source": [
    "df.drop(df[df['budget']==0].index,inplace=True)"
   ]
  },
  {
   "cell_type": "code",
   "execution_count": 19,
   "id": "dcda6297",
   "metadata": {},
   "outputs": [],
   "source": [
    "df.drop(df[df['revenue']==0].index,inplace=True)"
   ]
  },
  {
   "cell_type": "markdown",
   "id": "059f1522",
   "metadata": {},
   "source": [
    "### Task 6"
   ]
  },
  {
   "cell_type": "code",
   "execution_count": 20,
   "id": "0b6fe666",
   "metadata": {},
   "outputs": [
    {
     "data": {
      "text/html": [
       "<div>\n",
       "<style scoped>\n",
       "    .dataframe tbody tr th:only-of-type {\n",
       "        vertical-align: middle;\n",
       "    }\n",
       "\n",
       "    .dataframe tbody tr th {\n",
       "        vertical-align: top;\n",
       "    }\n",
       "\n",
       "    .dataframe thead th {\n",
       "        text-align: right;\n",
       "    }\n",
       "</style>\n",
       "<table border=\"1\" class=\"dataframe\">\n",
       "  <thead>\n",
       "    <tr style=\"text-align: right;\">\n",
       "      <th></th>\n",
       "      <th>title</th>\n",
       "      <th>revenue</th>\n",
       "    </tr>\n",
       "  </thead>\n",
       "  <tbody>\n",
       "    <tr>\n",
       "      <th>0</th>\n",
       "      <td>Avatar</td>\n",
       "      <td>2787965087</td>\n",
       "    </tr>\n",
       "    <tr>\n",
       "      <th>25</th>\n",
       "      <td>Titanic</td>\n",
       "      <td>1845034188</td>\n",
       "    </tr>\n",
       "    <tr>\n",
       "      <th>16</th>\n",
       "      <td>The Avengers</td>\n",
       "      <td>1519557910</td>\n",
       "    </tr>\n",
       "    <tr>\n",
       "      <th>28</th>\n",
       "      <td>Jurassic World</td>\n",
       "      <td>1513528810</td>\n",
       "    </tr>\n",
       "    <tr>\n",
       "      <th>44</th>\n",
       "      <td>Furious 7</td>\n",
       "      <td>1506249360</td>\n",
       "    </tr>\n",
       "    <tr>\n",
       "      <th>7</th>\n",
       "      <td>Avengers: Age of Ultron</td>\n",
       "      <td>1405403694</td>\n",
       "    </tr>\n",
       "    <tr>\n",
       "      <th>124</th>\n",
       "      <td>Frozen</td>\n",
       "      <td>1274219009</td>\n",
       "    </tr>\n",
       "    <tr>\n",
       "      <th>31</th>\n",
       "      <td>Iron Man 3</td>\n",
       "      <td>1215439994</td>\n",
       "    </tr>\n",
       "    <tr>\n",
       "      <th>546</th>\n",
       "      <td>Minions</td>\n",
       "      <td>1156730962</td>\n",
       "    </tr>\n",
       "    <tr>\n",
       "      <th>26</th>\n",
       "      <td>Captain America: Civil War</td>\n",
       "      <td>1153304495</td>\n",
       "    </tr>\n",
       "  </tbody>\n",
       "</table>\n",
       "</div>"
      ],
      "text/plain": [
       "                          title     revenue\n",
       "0                        Avatar  2787965087\n",
       "25                      Titanic  1845034188\n",
       "16                 The Avengers  1519557910\n",
       "28               Jurassic World  1513528810\n",
       "44                    Furious 7  1506249360\n",
       "7       Avengers: Age of Ultron  1405403694\n",
       "124                      Frozen  1274219009\n",
       "31                   Iron Man 3  1215439994\n",
       "546                     Minions  1156730962\n",
       "26   Captain America: Civil War  1153304495"
      ]
     },
     "execution_count": 20,
     "metadata": {},
     "output_type": "execute_result"
    }
   ],
   "source": [
    "df.sort_values(by='revenue',ascending=False)[['title','revenue']].head(10)"
   ]
  },
  {
   "cell_type": "code",
   "execution_count": 21,
   "id": "01eeea6c",
   "metadata": {},
   "outputs": [
    {
     "data": {
      "text/html": [
       "<div>\n",
       "<style scoped>\n",
       "    .dataframe tbody tr th:only-of-type {\n",
       "        vertical-align: middle;\n",
       "    }\n",
       "\n",
       "    .dataframe tbody tr th {\n",
       "        vertical-align: top;\n",
       "    }\n",
       "\n",
       "    .dataframe thead th {\n",
       "        text-align: right;\n",
       "    }\n",
       "</style>\n",
       "<table border=\"1\" class=\"dataframe\">\n",
       "  <thead>\n",
       "    <tr style=\"text-align: right;\">\n",
       "      <th></th>\n",
       "      <th>title</th>\n",
       "      <th>budget</th>\n",
       "    </tr>\n",
       "  </thead>\n",
       "  <tbody>\n",
       "    <tr>\n",
       "      <th>4238</th>\n",
       "      <td>Modern Times</td>\n",
       "      <td>1</td>\n",
       "    </tr>\n",
       "    <tr>\n",
       "      <th>3611</th>\n",
       "      <td>A Farewell to Arms</td>\n",
       "      <td>4</td>\n",
       "    </tr>\n",
       "    <tr>\n",
       "      <th>3372</th>\n",
       "      <td>Split Second</td>\n",
       "      <td>7</td>\n",
       "    </tr>\n",
       "    <tr>\n",
       "      <th>3419</th>\n",
       "      <td>Bran Nue Dae</td>\n",
       "      <td>7</td>\n",
       "    </tr>\n",
       "    <tr>\n",
       "      <th>4608</th>\n",
       "      <td>The Prophecy</td>\n",
       "      <td>8</td>\n",
       "    </tr>\n",
       "    <tr>\n",
       "      <th>3131</th>\n",
       "      <td>Of Horses and Men</td>\n",
       "      <td>10</td>\n",
       "    </tr>\n",
       "    <tr>\n",
       "      <th>3137</th>\n",
       "      <td>Nurse 3-D</td>\n",
       "      <td>10</td>\n",
       "    </tr>\n",
       "    <tr>\n",
       "      <th>2933</th>\n",
       "      <td>F.I.S.T.</td>\n",
       "      <td>11</td>\n",
       "    </tr>\n",
       "    <tr>\n",
       "      <th>1912</th>\n",
       "      <td>Angela's Ashes</td>\n",
       "      <td>25</td>\n",
       "    </tr>\n",
       "    <tr>\n",
       "      <th>1771</th>\n",
       "      <td>The 51st State</td>\n",
       "      <td>28</td>\n",
       "    </tr>\n",
       "  </tbody>\n",
       "</table>\n",
       "</div>"
      ],
      "text/plain": [
       "                   title  budget\n",
       "4238        Modern Times       1\n",
       "3611  A Farewell to Arms       4\n",
       "3372        Split Second       7\n",
       "3419        Bran Nue Dae       7\n",
       "4608        The Prophecy       8\n",
       "3131   Of Horses and Men      10\n",
       "3137           Nurse 3-D      10\n",
       "2933            F.I.S.T.      11\n",
       "1912      Angela's Ashes      25\n",
       "1771      The 51st State      28"
      ]
     },
     "execution_count": 21,
     "metadata": {},
     "output_type": "execute_result"
    }
   ],
   "source": [
    "df.sort_values(by='budget')[['title','budget']].head(10)"
   ]
  },
  {
   "cell_type": "markdown",
   "id": "44b06f41",
   "metadata": {},
   "source": [
    "### Task 7"
   ]
  },
  {
   "cell_type": "code",
   "execution_count": 22,
   "id": "9a0877f3",
   "metadata": {},
   "outputs": [
    {
     "data": {
      "text/plain": [
       "0.4319901360079746"
      ]
     },
     "execution_count": 22,
     "metadata": {},
     "output_type": "execute_result"
    }
   ],
   "source": [
    "df['popularity'].corr(df['budget'])"
   ]
  },
  {
   "cell_type": "code",
   "execution_count": 23,
   "id": "4183efbe",
   "metadata": {},
   "outputs": [
    {
     "data": {
      "text/plain": [
       "<AxesSubplot:xlabel='popularity', ylabel='budget'>"
      ]
     },
     "execution_count": 23,
     "metadata": {},
     "output_type": "execute_result"
    },
    {
     "data": {
      "image/png": "[encoded data removed]",
      "text/plain": [
       "<Figure size 640x480 with 1 Axes>"
      ]
     },
     "metadata": {},
     "output_type": "display_data"
    }
   ],
   "source": [
    "sns.regplot(x=df['popularity'],y=df['budget'])"
   ]
  },
  {
   "cell_type": "markdown",
   "id": "baec1d33",
   "metadata": {},
   "source": [
    "### We can see that budget and popularity are moderately correlated to each other. I would say budget of movie plays a half part on popularity of movie."
   ]
  },
  {
   "cell_type": "markdown",
   "id": "0e0e55fc",
   "metadata": {},
   "source": [
    "### Task 8"
   ]
  },
  {
   "cell_type": "code",
   "execution_count": 24,
   "id": "0c407d66",
   "metadata": {},
   "outputs": [
    {
     "data": {
      "text/html": [
       "<div>\n",
       "<style scoped>\n",
       "    .dataframe tbody tr th:only-of-type {\n",
       "        vertical-align: middle;\n",
       "    }\n",
       "\n",
       "    .dataframe tbody tr th {\n",
       "        vertical-align: top;\n",
       "    }\n",
       "\n",
       "    .dataframe thead th {\n",
       "        text-align: right;\n",
       "    }\n",
       "</style>\n",
       "<table border=\"1\" class=\"dataframe\">\n",
       "  <thead>\n",
       "    <tr style=\"text-align: right;\">\n",
       "      <th></th>\n",
       "      <th>production_companies</th>\n",
       "      <th>count</th>\n",
       "    </tr>\n",
       "  </thead>\n",
       "  <tbody>\n",
       "    <tr>\n",
       "      <th>0</th>\n",
       "      <td>[{\"name\": \"Paramount Pictures\", \"id\": 4}]</td>\n",
       "      <td>48</td>\n",
       "    </tr>\n",
       "    <tr>\n",
       "      <th>1</th>\n",
       "      <td>[]</td>\n",
       "      <td>41</td>\n",
       "    </tr>\n",
       "    <tr>\n",
       "      <th>2</th>\n",
       "      <td>[{\"name\": \"Universal Pictures\", \"id\": 33}]</td>\n",
       "      <td>35</td>\n",
       "    </tr>\n",
       "    <tr>\n",
       "      <th>3</th>\n",
       "      <td>[{\"name\": \"New Line Cinema\", \"id\": 12}]</td>\n",
       "      <td>29</td>\n",
       "    </tr>\n",
       "    <tr>\n",
       "      <th>4</th>\n",
       "      <td>[{\"name\": \"Columbia Pictures\", \"id\": 5}]</td>\n",
       "      <td>28</td>\n",
       "    </tr>\n",
       "    <tr>\n",
       "      <th>...</th>\n",
       "      <td>...</td>\n",
       "      <td>...</td>\n",
       "    </tr>\n",
       "    <tr>\n",
       "      <th>2628</th>\n",
       "      <td>[{\"name\": \"Universal Pictures\", \"id\": 33}, {\"n...</td>\n",
       "      <td>1</td>\n",
       "    </tr>\n",
       "    <tr>\n",
       "      <th>2629</th>\n",
       "      <td>[{\"name\": \"Columbia Pictures\", \"id\": 5}, {\"nam...</td>\n",
       "      <td>1</td>\n",
       "    </tr>\n",
       "    <tr>\n",
       "      <th>2630</th>\n",
       "      <td>[{\"name\": \"The Montecito Picture Company\", \"id...</td>\n",
       "      <td>1</td>\n",
       "    </tr>\n",
       "    <tr>\n",
       "      <th>2631</th>\n",
       "      <td>[{\"name\": \"Camelot Productions\", \"id\": 523}, {...</td>\n",
       "      <td>1</td>\n",
       "    </tr>\n",
       "    <tr>\n",
       "      <th>2632</th>\n",
       "      <td>[{\"name\": \"Daiei Studios\", \"id\": 881}]</td>\n",
       "      <td>1</td>\n",
       "    </tr>\n",
       "  </tbody>\n",
       "</table>\n",
       "<p>2633 rows × 2 columns</p>\n",
       "</div>"
      ],
      "text/plain": [
       "                                   production_companies  count\n",
       "0             [{\"name\": \"Paramount Pictures\", \"id\": 4}]     48\n",
       "1                                                    []     41\n",
       "2            [{\"name\": \"Universal Pictures\", \"id\": 33}]     35\n",
       "3               [{\"name\": \"New Line Cinema\", \"id\": 12}]     29\n",
       "4              [{\"name\": \"Columbia Pictures\", \"id\": 5}]     28\n",
       "...                                                 ...    ...\n",
       "2628  [{\"name\": \"Universal Pictures\", \"id\": 33}, {\"n...      1\n",
       "2629  [{\"name\": \"Columbia Pictures\", \"id\": 5}, {\"nam...      1\n",
       "2630  [{\"name\": \"The Montecito Picture Company\", \"id...      1\n",
       "2631  [{\"name\": \"Camelot Productions\", \"id\": 523}, {...      1\n",
       "2632             [{\"name\": \"Daiei Studios\", \"id\": 881}]      1\n",
       "\n",
       "[2633 rows x 2 columns]"
      ]
     },
     "execution_count": 24,
     "metadata": {},
     "output_type": "execute_result"
    }
   ],
   "source": [
    "T8=df['production_companies'].value_counts().reset_index()\n",
    "T8.columns=['production_companies','count']\n",
    "T8"
   ]
  },
  {
   "cell_type": "markdown",
   "id": "0515bf31",
   "metadata": {},
   "source": [
    "### Task 9"
   ]
  },
  {
   "cell_type": "code",
   "execution_count": 25,
   "id": "9f4a475e",
   "metadata": {},
   "outputs": [
    {
     "data": {
      "text/html": [
       "<div>\n",
       "<style scoped>\n",
       "    .dataframe tbody tr th:only-of-type {\n",
       "        vertical-align: middle;\n",
       "    }\n",
       "\n",
       "    .dataframe tbody tr th {\n",
       "        vertical-align: top;\n",
       "    }\n",
       "\n",
       "    .dataframe thead th {\n",
       "        text-align: right;\n",
       "    }\n",
       "</style>\n",
       "<table border=\"1\" class=\"dataframe\">\n",
       "  <thead>\n",
       "    <tr style=\"text-align: right;\">\n",
       "      <th></th>\n",
       "      <th>Production_companies</th>\n",
       "      <th>no_of_movies</th>\n",
       "    </tr>\n",
       "  </thead>\n",
       "  <tbody>\n",
       "    <tr>\n",
       "      <th>0</th>\n",
       "      <td>[{\"name\": \"Paramount Pictures\", \"id\": 4}]</td>\n",
       "      <td>48</td>\n",
       "    </tr>\n",
       "    <tr>\n",
       "      <th>1</th>\n",
       "      <td>[]</td>\n",
       "      <td>41</td>\n",
       "    </tr>\n",
       "    <tr>\n",
       "      <th>2</th>\n",
       "      <td>[{\"name\": \"Universal Pictures\", \"id\": 33}]</td>\n",
       "      <td>35</td>\n",
       "    </tr>\n",
       "    <tr>\n",
       "      <th>3</th>\n",
       "      <td>[{\"name\": \"New Line Cinema\", \"id\": 12}]</td>\n",
       "      <td>29</td>\n",
       "    </tr>\n",
       "    <tr>\n",
       "      <th>4</th>\n",
       "      <td>[{\"name\": \"Columbia Pictures\", \"id\": 5}]</td>\n",
       "      <td>28</td>\n",
       "    </tr>\n",
       "    <tr>\n",
       "      <th>5</th>\n",
       "      <td>[{\"name\": \"Twentieth Century Fox Film Corporat...</td>\n",
       "      <td>25</td>\n",
       "    </tr>\n",
       "    <tr>\n",
       "      <th>6</th>\n",
       "      <td>[{\"name\": \"Warner Bros.\", \"id\": 6194}]</td>\n",
       "      <td>24</td>\n",
       "    </tr>\n",
       "    <tr>\n",
       "      <th>7</th>\n",
       "      <td>[{\"name\": \"Metro-Goldwyn-Mayer (MGM)\", \"id\": 8...</td>\n",
       "      <td>24</td>\n",
       "    </tr>\n",
       "    <tr>\n",
       "      <th>8</th>\n",
       "      <td>[{\"name\": \"Walt Disney Pictures\", \"id\": 2}]</td>\n",
       "      <td>18</td>\n",
       "    </tr>\n",
       "    <tr>\n",
       "      <th>9</th>\n",
       "      <td>[{\"name\": \"Touchstone Pictures\", \"id\": 9195}]</td>\n",
       "      <td>15</td>\n",
       "    </tr>\n",
       "    <tr>\n",
       "      <th>10</th>\n",
       "      <td>[{\"name\": \"Columbia Pictures Corporation\", \"id...</td>\n",
       "      <td>13</td>\n",
       "    </tr>\n",
       "    <tr>\n",
       "      <th>11</th>\n",
       "      <td>[{\"name\": \"Dimension Films\", \"id\": 7405}]</td>\n",
       "      <td>13</td>\n",
       "    </tr>\n",
       "    <tr>\n",
       "      <th>12</th>\n",
       "      <td>[{\"name\": \"DreamWorks Animation\", \"id\": 521}]</td>\n",
       "      <td>12</td>\n",
       "    </tr>\n",
       "    <tr>\n",
       "      <th>13</th>\n",
       "      <td>[{\"name\": \"Walt Disney Pictures\", \"id\": 2}, {\"...</td>\n",
       "      <td>11</td>\n",
       "    </tr>\n",
       "    <tr>\n",
       "      <th>14</th>\n",
       "      <td>[{\"name\": \"United Artists\", \"id\": 60}]</td>\n",
       "      <td>10</td>\n",
       "    </tr>\n",
       "    <tr>\n",
       "      <th>15</th>\n",
       "      <td>[{\"name\": \"Walt Disney Pictures\", \"id\": 2}, {\"...</td>\n",
       "      <td>9</td>\n",
       "    </tr>\n",
       "    <tr>\n",
       "      <th>16</th>\n",
       "      <td>[{\"name\": \"Miramax Films\", \"id\": 14}]</td>\n",
       "      <td>9</td>\n",
       "    </tr>\n",
       "    <tr>\n",
       "      <th>17</th>\n",
       "      <td>[{\"name\": \"Marvel Studios\", \"id\": 420}]</td>\n",
       "      <td>8</td>\n",
       "    </tr>\n",
       "    <tr>\n",
       "      <th>18</th>\n",
       "      <td>[{\"name\": \"Blue Sky Studios\", \"id\": 9383}, {\"n...</td>\n",
       "      <td>8</td>\n",
       "    </tr>\n",
       "    <tr>\n",
       "      <th>19</th>\n",
       "      <td>[{\"name\": \"Eon Productions\", \"id\": 7576}]</td>\n",
       "      <td>7</td>\n",
       "    </tr>\n",
       "    <tr>\n",
       "      <th>20</th>\n",
       "      <td>[{\"name\": \"Fox 2000 Pictures\", \"id\": 711}]</td>\n",
       "      <td>7</td>\n",
       "    </tr>\n",
       "    <tr>\n",
       "      <th>21</th>\n",
       "      <td>[{\"name\": \"United Artists\", \"id\": 60}, {\"name\"...</td>\n",
       "      <td>7</td>\n",
       "    </tr>\n",
       "    <tr>\n",
       "      <th>22</th>\n",
       "      <td>[{\"name\": \"Hollywood Pictures\", \"id\": 915}, {\"...</td>\n",
       "      <td>6</td>\n",
       "    </tr>\n",
       "    <tr>\n",
       "      <th>23</th>\n",
       "      <td>[{\"name\": \"Imagine Entertainment\", \"id\": 23}, ...</td>\n",
       "      <td>6</td>\n",
       "    </tr>\n",
       "    <tr>\n",
       "      <th>24</th>\n",
       "      <td>[{\"name\": \"TriStar Pictures\", \"id\": 559}]</td>\n",
       "      <td>6</td>\n",
       "    </tr>\n",
       "  </tbody>\n",
       "</table>\n",
       "</div>"
      ],
      "text/plain": [
       "                                 Production_companies  no_of_movies\n",
       "0           [{\"name\": \"Paramount Pictures\", \"id\": 4}]            48\n",
       "1                                                  []            41\n",
       "2          [{\"name\": \"Universal Pictures\", \"id\": 33}]            35\n",
       "3             [{\"name\": \"New Line Cinema\", \"id\": 12}]            29\n",
       "4            [{\"name\": \"Columbia Pictures\", \"id\": 5}]            28\n",
       "5   [{\"name\": \"Twentieth Century Fox Film Corporat...            25\n",
       "6              [{\"name\": \"Warner Bros.\", \"id\": 6194}]            24\n",
       "7   [{\"name\": \"Metro-Goldwyn-Mayer (MGM)\", \"id\": 8...            24\n",
       "8         [{\"name\": \"Walt Disney Pictures\", \"id\": 2}]            18\n",
       "9       [{\"name\": \"Touchstone Pictures\", \"id\": 9195}]            15\n",
       "10  [{\"name\": \"Columbia Pictures Corporation\", \"id...            13\n",
       "11          [{\"name\": \"Dimension Films\", \"id\": 7405}]            13\n",
       "12      [{\"name\": \"DreamWorks Animation\", \"id\": 521}]            12\n",
       "13  [{\"name\": \"Walt Disney Pictures\", \"id\": 2}, {\"...            11\n",
       "14             [{\"name\": \"United Artists\", \"id\": 60}]            10\n",
       "15  [{\"name\": \"Walt Disney Pictures\", \"id\": 2}, {\"...             9\n",
       "16              [{\"name\": \"Miramax Films\", \"id\": 14}]             9\n",
       "17            [{\"name\": \"Marvel Studios\", \"id\": 420}]             8\n",
       "18  [{\"name\": \"Blue Sky Studios\", \"id\": 9383}, {\"n...             8\n",
       "19          [{\"name\": \"Eon Productions\", \"id\": 7576}]             7\n",
       "20         [{\"name\": \"Fox 2000 Pictures\", \"id\": 711}]             7\n",
       "21  [{\"name\": \"United Artists\", \"id\": 60}, {\"name\"...             7\n",
       "22  [{\"name\": \"Hollywood Pictures\", \"id\": 915}, {\"...             6\n",
       "23  [{\"name\": \"Imagine Entertainment\", \"id\": 23}, ...             6\n",
       "24          [{\"name\": \"TriStar Pictures\", \"id\": 559}]             6"
      ]
     },
     "execution_count": 25,
     "metadata": {},
     "output_type": "execute_result"
    }
   ],
   "source": [
    "T9=df['production_companies'].value_counts().reset_index()\n",
    "T9.columns=['Production_companies','no_of_movies']\n",
    "T9.head(25)"
   ]
  },
  {
   "cell_type": "markdown",
   "id": "fd1e0cda",
   "metadata": {},
   "source": [
    "### Task 10"
   ]
  },
  {
   "cell_type": "code",
   "execution_count": 26,
   "id": "2ccda6e8",
   "metadata": {
    "scrolled": false
   },
   "outputs": [],
   "source": [
    "T10=df.sort_values(by='revenue',ascending=False).head(500)"
   ]
  },
  {
   "cell_type": "code",
   "execution_count": 27,
   "id": "4ccc8b6c",
   "metadata": {},
   "outputs": [
    {
     "name": "stdout",
     "output_type": "stream",
     "text": [
      "The mean of budget is :  103193736.0\n",
      "The median of budget is :  95000000.0\n",
      "The mode of budget is :  150000000\n"
     ]
    }
   ],
   "source": [
    "print('The mean of budget is : ', T10['budget'].mean())\n",
    "print('The median of budget is : ', T10['budget'].median())\n",
    "print('The mode of budget is : ', T10['budget'].mode()[0])"
   ]
  },
  {
   "cell_type": "code",
   "execution_count": 28,
   "id": "682004e0",
   "metadata": {},
   "outputs": [
    {
     "name": "stdout",
     "output_type": "stream",
     "text": [
      "The mean of revenue is :  458577595.062\n",
      "The median of revenue is :  363001569.5\n",
      "The mode of revenue is :  217764291\n"
     ]
    }
   ],
   "source": [
    "print('The mean of revenue is : ', T10['revenue'].mean())\n",
    "print('The median of revenue is : ', T10['revenue'].median())\n",
    "print('The mode of revenue is : ', T10['revenue'].mode()[0])"
   ]
  },
  {
   "cell_type": "code",
   "execution_count": 29,
   "id": "e3f77483",
   "metadata": {},
   "outputs": [
    {
     "name": "stdout",
     "output_type": "stream",
     "text": [
      "The mean of runtime is :  118.72\n",
      "The median of runtime is :  116.0\n",
      "The mode of runtime is :  115.0\n"
     ]
    }
   ],
   "source": [
    "print('The mean of runtime is : ', T10['runtime'].mean())\n",
    "print('The median of runtime is : ', T10['runtime'].median())\n",
    "print('The mode of runtime is : ', T10['runtime'].mode()[0])"
   ]
  },
  {
   "cell_type": "code",
   "execution_count": 30,
   "id": "1d0beb0e",
   "metadata": {},
   "outputs": [
    {
     "data": {
      "text/plain": [
       "<AxesSubplot:>"
      ]
     },
     "execution_count": 30,
     "metadata": {},
     "output_type": "execute_result"
    },
    {
     "data": {
      "image/png": "[encoded data removed]",
      "text/plain": [
       "<Figure size 640x480 with 1 Axes>"
      ]
     },
     "metadata": {},
     "output_type": "display_data"
    }
   ],
   "source": [
    "T10['budget'].plot(kind='box')"
   ]
  },
  {
   "cell_type": "markdown",
   "id": "71c3d2db",
   "metadata": {},
   "source": [
    "### budget column have only 2 outliers"
   ]
  },
  {
   "cell_type": "code",
   "execution_count": 31,
   "id": "3184cb78",
   "metadata": {},
   "outputs": [
    {
     "data": {
      "text/plain": [
       "<AxesSubplot:>"
      ]
     },
     "execution_count": 31,
     "metadata": {},
     "output_type": "execute_result"
    },
    {
     "data": {
      "image/png": "[encoded data removed]",
      "text/plain": [
       "<Figure size 640x480 with 1 Axes>"
      ]
     },
     "metadata": {},
     "output_type": "display_data"
    }
   ],
   "source": [
    "T10['revenue'].plot(kind='box')"
   ]
  },
  {
   "cell_type": "markdown",
   "id": "aa6668ca",
   "metadata": {},
   "source": [
    "### revenue column have many outliers"
   ]
  },
  {
   "cell_type": "code",
   "execution_count": 32,
   "id": "1bbaeeac",
   "metadata": {},
   "outputs": [
    {
     "data": {
      "text/plain": [
       "<AxesSubplot:>"
      ]
     },
     "execution_count": 32,
     "metadata": {},
     "output_type": "execute_result"
    },
    {
     "data": {
      "image/png": "[encoded data removed]",
      "text/plain": [
       "<Figure size 640x480 with 1 Axes>"
      ]
     },
     "metadata": {},
     "output_type": "display_data"
    }
   ],
   "source": [
    "T10['runtime'].plot(kind='box')"
   ]
  },
  {
   "cell_type": "markdown",
   "id": "c37b984c",
   "metadata": {},
   "source": [
    "### runtime column has 9 outliers"
   ]
  },
  {
   "cell_type": "markdown",
   "id": "1f20514c",
   "metadata": {},
   "source": [
    "### Task 11"
   ]
  },
  {
   "cell_type": "code",
   "execution_count": 33,
   "id": "fdc57ec9",
   "metadata": {},
   "outputs": [
    {
     "data": {
      "text/plain": [
       "118.72"
      ]
     },
     "execution_count": 33,
     "metadata": {},
     "output_type": "execute_result"
    }
   ],
   "source": [
    "T10['runtime'].mean()"
   ]
  },
  {
   "cell_type": "code",
   "execution_count": 34,
   "id": "2473b471",
   "metadata": {
    "scrolled": false
   },
   "outputs": [
    {
     "data": {
      "text/html": [
       "<div>\n",
       "<style scoped>\n",
       "    .dataframe tbody tr th:only-of-type {\n",
       "        vertical-align: middle;\n",
       "    }\n",
       "\n",
       "    .dataframe tbody tr th {\n",
       "        vertical-align: top;\n",
       "    }\n",
       "\n",
       "    .dataframe thead th {\n",
       "        text-align: right;\n",
       "    }\n",
       "</style>\n",
       "<table border=\"1\" class=\"dataframe\">\n",
       "  <thead>\n",
       "    <tr style=\"text-align: right;\">\n",
       "      <th></th>\n",
       "      <th>title</th>\n",
       "      <th>runtime</th>\n",
       "    </tr>\n",
       "  </thead>\n",
       "  <tbody>\n",
       "    <tr>\n",
       "      <th>0</th>\n",
       "      <td>Avatar</td>\n",
       "      <td>162.0</td>\n",
       "    </tr>\n",
       "    <tr>\n",
       "      <th>25</th>\n",
       "      <td>Titanic</td>\n",
       "      <td>194.0</td>\n",
       "    </tr>\n",
       "    <tr>\n",
       "      <th>16</th>\n",
       "      <td>The Avengers</td>\n",
       "      <td>143.0</td>\n",
       "    </tr>\n",
       "    <tr>\n",
       "      <th>28</th>\n",
       "      <td>Jurassic World</td>\n",
       "      <td>124.0</td>\n",
       "    </tr>\n",
       "    <tr>\n",
       "      <th>44</th>\n",
       "      <td>Furious 7</td>\n",
       "      <td>137.0</td>\n",
       "    </tr>\n",
       "    <tr>\n",
       "      <th>...</th>\n",
       "      <td>...</td>\n",
       "      <td>...</td>\n",
       "    </tr>\n",
       "    <tr>\n",
       "      <th>521</th>\n",
       "      <td>The Terminal</td>\n",
       "      <td>128.0</td>\n",
       "    </tr>\n",
       "    <tr>\n",
       "      <th>397</th>\n",
       "      <td>It's Complicated</td>\n",
       "      <td>121.0</td>\n",
       "    </tr>\n",
       "    <tr>\n",
       "      <th>1744</th>\n",
       "      <td>Knocked Up</td>\n",
       "      <td>129.0</td>\n",
       "    </tr>\n",
       "    <tr>\n",
       "      <th>717</th>\n",
       "      <td>Jack Reacher</td>\n",
       "      <td>130.0</td>\n",
       "    </tr>\n",
       "    <tr>\n",
       "      <th>714</th>\n",
       "      <td>Collateral</td>\n",
       "      <td>120.0</td>\n",
       "    </tr>\n",
       "  </tbody>\n",
       "</table>\n",
       "<p>234 rows × 2 columns</p>\n",
       "</div>"
      ],
      "text/plain": [
       "                 title  runtime\n",
       "0               Avatar    162.0\n",
       "25             Titanic    194.0\n",
       "16        The Avengers    143.0\n",
       "28      Jurassic World    124.0\n",
       "44           Furious 7    137.0\n",
       "...                ...      ...\n",
       "521       The Terminal    128.0\n",
       "397   It's Complicated    121.0\n",
       "1744        Knocked Up    129.0\n",
       "717       Jack Reacher    130.0\n",
       "714         Collateral    120.0\n",
       "\n",
       "[234 rows x 2 columns]"
      ]
     },
     "execution_count": 34,
     "metadata": {},
     "output_type": "execute_result"
    }
   ],
   "source": [
    "T10[(T10['runtime']>T10['runtime'].mean())][['title','runtime']]"
   ]
  },
  {
   "cell_type": "code",
   "execution_count": null,
   "id": "0703dbf9",
   "metadata": {},
   "outputs": [],
   "source": []
  },
  {
   "cell_type": "code",
   "execution_count": null,
   "id": "725fe368",
   "metadata": {},
   "outputs": [],
   "source": []
  }
 ],
 "metadata": {
  "kernelspec": {
   "display_name": "Python 3 (ipykernel)",
   "language": "python",
   "name": "python3"
  },
  "language_info": {
   "codemirror_mode": {
    "name": "ipython",
    "version": 3
   },
   "file_extension": ".py",
   "mimetype": "text/x-python",
   "name": "python",
   "nbconvert_exporter": "python",
   "pygments_lexer": "ipython3",
   "version": "3.9.13"
  }
 },
 "nbformat": 4,
 "nbformat_minor": 5
}
